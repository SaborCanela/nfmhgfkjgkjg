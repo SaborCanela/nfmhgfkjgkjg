{
 "cells": [
  {
   "cell_type": "markdown",
   "id": "14a254ef-cfba-4b97-ba48-e5c4386e67a6",
   "metadata": {},
   "source": [
    "### <center><h2> INGENIERÍA EN BIOTECNOLOGÍA</h2></center>\n",
    "# <center><h1 style=\"color:red\">GBI6 - BIOINFORMÁTICA</h1></center>\n",
    "\n",
    "\n",
    "<img src=\"https://www.ikiam.edu.ec/img/logo-ikiam-grey.png\" width=400 height=300 />\n",
    "\n",
    "# INTRODUCCIÓN A LA PROGRAMACIÓN EN PYTHON\n",
    "- Thomas Garzon\n",
    "## Antcedentes\n",
    "\n",
    "# DOGMA CENTRAL DE LA BIOLOGÍA MOLECULAR\n",
    "\n",
    "<img src=\"http://2.bp.blogspot.com/-wW8gZv4ZhDQ/UykDQ2KecHI/AAAAAAAAc1k/_9zP_VKzWps/s1600/Dogma+central+de+la+biologia+molecular+modificado.jpg\" width=400 height=300 />\n",
    "\n",
    "\n",
    "- Consiste en la generación de moléculas de ARN o RNA, para permitir a nivel citoplasmático la síntesis de proteínas, conocido también como proceso de decodificación. Propuesto inicialmente por Francis Crick, 1958.\n",
    "\n",
    "<img src=\"data:image/png;base64,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\" width=400 height=300 />\n",
    "\n",
    "# Pasos para la transcipcion\n",
    "1. Iniciación: es el inicio de la transcripción. Ocurre cuando al enzima ARN polimerasa se une a una región de un gen llamada promotor\n",
    "2. Elongación: es la adición de nucleótidos a la hebra de ARNm. La ARN polimerasa lee la hebra desenrollada de ADN y construye la molécula de ARNm, usando pares de bases complementarias\n",
    "3. Terminación: es el término de la transcripción, y ocurre cuando la ARN polimerasa cruza una secuencia de terminación en el gen. La hebra de ARNm está completa y se separa del ADN."
   ]
  },
  {
   "cell_type": "markdown",
   "id": "fa7a7bdb-4bd6-4b34-ad43-2ddf07605f1a",
   "metadata": {},
   "source": [
    "## Deber o ejercicio de secuecnia de ADN"
   ]
  },
  {
   "cell_type": "code",
   "execution_count": 1,
   "id": "15a37ec0-6ecf-46e5-a5bb-59dbbd2ee777",
   "metadata": {},
   "outputs": [
    {
     "data": {
      "text/plain": [
       "'AAGGACCNGACATCCATCGCTGATGTCAATCCCCCGTGGATCGTAAGTCCGGGAGTAGGAGGAGGAAGGGTCGTCCCACAGTGCGAAGAGGCTTCTGACCTACTGACGGTACCTCCTCAGTGTCAGCCTATAGTCGGAGCTCGAGGGAGACTCGGTCCTCTGTAAAAGTCCGAATACCTTTGATGAAGGAGGTCTTCTATAGGACGGTAG'"
      ]
     },
     "execution_count": 1,
     "metadata": {},
     "output_type": "execute_result"
    }
   ],
   "source": [
    "seq2 = \"AAGGACCNGACATCCATCGCTGATGTCAATCCCCCGTGGATCGTAAGTCCGGGAGTAGGAGGAGGAAGGGTCGTCCCACAGTGCGAAGAGGCTTCTGACCTACTGACGGTACCTCCTCAGTGTCAGCCTATAGTCGGAGCTCGAGGGAGACTCGGTCCTCTGTAAAAGTCCGAATACCTTTGATGAAGGAGGTCTTCTATAGGACGGTAG\"\n",
    "seq2"
   ]
  },
  {
   "cell_type": "markdown",
   "id": "66a7f220-9935-41d8-97e0-3db30c58a9fe",
   "metadata": {},
   "source": [
    "# Cadena de ADN con el complementario el y el reverso complementario"
   ]
  },
  {
   "cell_type": "code",
   "execution_count": 2,
   "id": "0a0a1cb6-7f20-4017-83ce-2cdc61ca283e",
   "metadata": {},
   "outputs": [
    {
     "name": "stdout",
     "output_type": "stream",
     "text": [
      "Porcentaje de GC es:  54.29 %\n"
     ]
    }
   ],
   "source": [
    "seq2 = \"AAGGACCNGACATCCATCGCTGATGTCAATCCCCCGTGGATCGTAAGTCCGGGAGTAGGAGGAGGAAGGGTCGTCCCACAGTGCGAAGAGGCTTCTGACCTACTGACGGTACCTCCTCAGTGTCAGCCTATAGTCGGAGCTCGAGGGAGACTCGGTCCTCTGTAAAAGTCCGAATACCTTTGATGAAGGAGGTCTTCTATAGGACGGTAG\"\n",
    "g = seq2.count('G')\n",
    "c = seq2.count('C')\n",
    "total = len(seq2)\n",
    "\n",
    "gc_percent = round(100*(g + c)/ total, 2)\n",
    "\n",
    "print(\"Porcentaje de GC es: \", gc_percent, \"%\")"
   ]
  },
  {
   "cell_type": "code",
   "execution_count": 4,
   "id": "190cc55f-271a-4fc7-a2c3-ccd32c4b8b7c",
   "metadata": {
    "tags": []
   },
   "outputs": [
    {
     "data": {
      "text/plain": [
       "'AACCAGGCAGAAGGAAGCGACAACAGAAAGGGGGCACCAAGCAAACAGGCCCACAACCACCACCAACCCAGCAGGGAGACACGCAACACCGAAGACAGGAAGACAGCCAAGGAGGAGACACAGACGGAAAACAGCCACGAGCACCCACAGAGCCAGGAGACAAAAACAGGCAAAAGGAAACAACAACCACCAGAAGAAAACCAGCCAAC'"
      ]
     },
     "execution_count": 4,
     "metadata": {},
     "output_type": "execute_result"
    }
   ],
   "source": [
    "seq2 = \"AAGGACCNGACATCCATCGCTGATGTCAATCCCCCGTGGATCGTAAGTCCGGGAGTAGGAGGAGGAAGGGTCGTCCCACAGTGCGAAGAGGCTTCTGACCTACTGACGGTACCTCCTCAGTGTCAGCCTATAGTCGGAGCTCGAGGGAGACTCGGTCCTCTGTAAAAGTCCGAATACCTTTGATGAAGGAGGTCTTCTATAGGACGGTAG\"\n",
    "seq3 = seq2.replace(\"A\", \"a\") #se remplaza las A por las a\n",
    "seq4 = seq3.replace(\"T\", \"a\") #se remplaza las T por las a\n",
    "seq5 = seq4.replace(\"C\", \"g\") #se remplaza las C por las g\n",
    "seq6 = seq5.replace(\"G\", \"c\") #se remplaza las G por las c\n",
    "seq7 = seq6.replace(\"N\", \"\")\n",
    "seq2_temp = seq7.upper() #para poner mayusculas todo\n",
    "seq2_temp\n"
   ]
  },
  {
   "cell_type": "code",
   "execution_count": 36,
   "id": "3713fc53-d3f5-4a98-8bce-1d602e272e57",
   "metadata": {},
   "outputs": [
    {
     "data": {
      "text/plain": [
       "'CTACCGTCCTATAGAAGACCTCCTTCATCAAAGGTATTCGGACTTTTACAGAGGACCGAGTCTCCCTCGAGCTCCGACTATAGGCTGACACTGAGGAGGTACCGTCAGTAGGTCAGAAGCCTCTTCGCACTGTGGGACGACCCTTCCTCCTCCTACTCCCGGACTTACGATCCACGGGGGATTGACATCAGCGATGGATGTCGGTCCTT'"
      ]
     },
     "execution_count": 36,
     "metadata": {},
     "output_type": "execute_result"
    }
   ],
   "source": [
    "cseq2 = seq2_temp #para nombrar la nueva variable en el completo de la secuencia\n",
    "rseq2 = cseq2[::-1] #para organizar la revers del complemento de la secuencia\n",
    "rseq2"
   ]
  },
  {
   "cell_type": "markdown",
   "id": "e4742f3a-abf7-4895-8644-3a875c967f80",
   "metadata": {},
   "source": [
    "# Resultados de la cadena complementaria (cseq2), y la cadena reverso complementaria (rseq2)"
   ]
  },
  {
   "cell_type": "markdown",
   "id": "36e215e9-6062-451d-9575-b195e960449e",
   "metadata": {},
   "source": [
    "#### Complementario ADNc\n",
    "- El ADN complementario (ADNc) es una molécula de ADN de una doble cadena, en la que una de sus hebras constituye una secuencia totalmente complementaria al ARN mensajero a partir del cual se ha sintetizado. Se suele utilizar para la clonación de genes propios de células eucariotas en células procariotas, debido a que, dada la naturaleza de su síntesis, carece de intrones.\n",
    "\n",
    "<img src=\"https://cdn.kastatic.org/ka-perseus-images/8b34811a58635746dd54952b8d182fa1f0322170.png\" width=800 height=600 />"
   ]
  },
  {
   "cell_type": "code",
   "execution_count": 37,
   "id": "a86a419f-f851-42d5-983c-0a52f9bede27",
   "metadata": {},
   "outputs": [
    {
     "name": "stdout",
     "output_type": "stream",
     "text": [
      "TTCCTGGCTGTAGGTAGCGACTACAGTTAGGGGGCACCTAGCATTCAGGCCCTCATCCTCCTCCTTCCCAGCAGGGTGTCACGCTTCTCCGAAGACTGGATGACTGCCATGGAGGAGTCACAGTCGGATATCAGCCTCGAGCTCCCTCTGAGCCAGGAGACATTTTCAGGCTTATGGAAACTACTTCCTCCAGAAGATATCCTGCCATC\n"
     ]
    }
   ],
   "source": [
    "print(cseq2) #El complemento de secuencia de la cadena"
   ]
  },
  {
   "cell_type": "markdown",
   "id": "2167583e-8b3f-4211-81bf-cd287f6ef9f6",
   "metadata": {},
   "source": [
    "#### Reverso complementario \n",
    "- El reverso de una secuencia simplemente consiste en revertir la hilera dada, y el complemento, en cambiar los nucleótidos A con T o C con G, y viceversa. El reverso complementario convierte una secuencia de ADN en su reversa y luego aplica el complemento.\n",
    "\n",
    "<img src=\"data:image/jpeg;base64,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\" width=400 height=300 />"
   ]
  },
  {
   "cell_type": "code",
   "execution_count": 38,
   "id": "dc59364f-b718-4862-ba53-d4710a4ace21",
   "metadata": {},
   "outputs": [
    {
     "name": "stdout",
     "output_type": "stream",
     "text": [
      "CTACCGTCCTATAGAAGACCTCCTTCATCAAAGGTATTCGGACTTTTACAGAGGACCGAGTCTCCCTCGAGCTCCGACTATAGGCTGACACTGAGGAGGTACCGTCAGTAGGTCAGAAGCCTCTTCGCACTGTGGGACGACCCTTCCTCCTCCTACTCCCGGACTTACGATCCACGGGGGATTGACATCAGCGATGGATGTCGGTCCTT\n"
     ]
    }
   ],
   "source": [
    "print(rseq2) #Es el reverso de la cadena complemento"
   ]
  },
  {
   "cell_type": "markdown",
   "id": "7391aef7-5657-4304-bad4-5193b9a364cd",
   "metadata": {},
   "source": [
    "# Inicio y final del ADN"
   ]
  },
  {
   "cell_type": "code",
   "execution_count": 39,
   "id": "b804779d-a786-463d-b74b-20b4740ace09",
   "metadata": {},
   "outputs": [],
   "source": [
    "dna_show = seq2.replace(\"ATC\", \"Start\")\n",
    "dna_show = dna_show.replace(\"TAG\", \"End\")\n",
    "\n",
    "dna_show2 = cseq2.replace(\"ATC\", \"Start\")\n",
    "dna_show_cseq2 = dna_show2.replace(\"TAG\", \"End\")\n",
    "\n",
    "dna_show3 = rseq2.replace(\"ATC\", \"Start\")\n",
    "dna_show_rseq2 = dna_show3.replace(\"TAG\", \"End\")"
   ]
  },
  {
   "cell_type": "markdown",
   "id": "5a2a6353-23af-45c2-a4af-cf7b56e81e6b",
   "metadata": {},
   "source": [
    "# Resultados del inicio y final del ADN"
   ]
  },
  {
   "cell_type": "code",
   "execution_count": 40,
   "id": "d985989d-a0ab-49f7-91b4-6cba4b241d19",
   "metadata": {},
   "outputs": [
    {
     "name": "stdout",
     "output_type": "stream",
     "text": [
      "AAGGACCNGACStartCStartGCTGATGTCAStartCCCCGTGGStartGTAAGTCCGGGAGEndGAGGAGGAAGGGTCGTCCCACAGTGCGAAGAGGCTTCTGACCTACTGACGGTACCTCCTCAGTGTCAGCCTAEndTCGGAGCTCGAGGGAGACTCGGTCCTCTGTAAAAGTCCGAATACCTTTGATGAAGGAGGTCTTCTAEndGACGGEnd\n"
     ]
    }
   ],
   "source": [
    "print(dna_show) #Se cambiaron los ATC como inicio y el TAG como el stop o final en la secuencia 2"
   ]
  },
  {
   "cell_type": "code",
   "execution_count": 41,
   "id": "2d85783b-124e-4740-96a4-ac8bfb7d4bb4",
   "metadata": {},
   "outputs": [
    {
     "name": "stdout",
     "output_type": "stream",
     "text": [
      "TTCCTGGCTGTAGGTAGCGACTACAGTTAGGGGGCACCTAGCATTCAGGCCCTCStartCTCCTCCTTCCCAGCAGGGTGTCACGCTTCTCCGAAGACTGGATGACTGCCATGGAGGAGTCACAGTCGGATStartAGCCTCGAGCTCCCTCTGAGCCAGGAGACATTTTCAGGCTTATGGAAACTACTTCCTCCAGAAGATStartCTGCCStart\n"
     ]
    }
   ],
   "source": [
    "print(dna_show2) #Se cambiaron los ATC como inicio y el TAG como el stop o final en la cadena complemento"
   ]
  },
  {
   "cell_type": "code",
   "execution_count": 42,
   "id": "8d8f17d1-9472-4bca-9b05-f87b021ef0d7",
   "metadata": {},
   "outputs": [
    {
     "name": "stdout",
     "output_type": "stream",
     "text": [
      "CTACCGTCCTATAGAAGACCTCCTTCStartAAAGGTATTCGGACTTTTACAGAGGACCGAGTCTCCCTCGAGCTCCGACTATAGGCTGACACTGAGGAGGTACCGTCAGTAGGTCAGAAGCCTCTTCGCACTGTGGGACGACCCTTCCTCCTCCTACTCCCGGACTTACGStartCACGGGGGATTGACStartAGCGATGGATGTCGGTCCTT\n"
     ]
    }
   ],
   "source": [
    "print(dna_show3) #Se cambiaron los ATC como inicio y el TAG como el stop o final en la revers de la cadena complemento"
   ]
  },
  {
   "cell_type": "markdown",
   "id": "a4da2afc-ae88-4f7e-869f-ff73bfe3e6b7",
   "metadata": {},
   "source": [
    "# Cadena de ARNm"
   ]
  },
  {
   "cell_type": "markdown",
   "id": "0ae2732a-c0f5-4497-9983-dbfeb02129fd",
   "metadata": {},
   "source": [
    "### Cadena de ARNm de la seq2"
   ]
  },
  {
   "cell_type": "code",
   "execution_count": 9,
   "id": "e2303f75-07d7-4a58-88c9-61d6954e62bd",
   "metadata": {},
   "outputs": [
    {
     "name": "stdout",
     "output_type": "stream",
     "text": [
      "UUCCUGGCUGUAGGUAGCGACUACAGUUAGGGGGCACCUAGCAUUCAGGCCCUCAUCCUCCUCCUUCCCAGCAGGGUGUCACGCUUCUCCGAAGACUGGAUGACUGCCAUGGAGGAGUCACAGUCGGAUAUCAGCCUCGAGCUCCCUCUGAGCCAGGAGACAUUUUCAGGCUUAUGGAAACUACUUCCUCCAGAAGAUAUCCUGCCAUC\n"
     ]
    }
   ],
   "source": [
    "seq2 = \"AAGGACCNGACATCCATCGCTGATGTCAATCCCCCGTGGATCGTAAGTCCGGGAGTAGGAGGAGGAAGGGTCGTCCCACAGTGCGAAGAGGCTTCTGACCTACTGACGGTACCTCCTCAGTGTCAGCCTATAGTCGGAGCTCGAGGGAGACTCGGTCCTCTGTAAAAGTCCGAATACCTTTGATGAAGGAGGTCTTCTATAGGACGGTAG\"\n",
    "seq_1_ARN = seq2.replace(\"A\", \"u\") #se remplaza las A por las u por que es una cadena de ARN\n",
    "seq_2_ARN = seq_1_ARN.replace(\"T\", \"a\") #se remplaza las T por las a\n",
    "seq_3_ARN = seq_2_ARN.replace(\"C\", \"g\") #se remplaza las C por las g\n",
    "seq_4_ARN = seq_3_ARN.replace(\"G\", \"c\") #se remplaza las G por las c\n",
    "seq_5_ARN = seq_4_ARN.replace(\"N\", \"\")\n",
    "seq_ARNm = seq_5_ARN.upper() #para poner mayusculas todo\n",
    "print(seq_ARNm)"
   ]
  },
  {
   "cell_type": "code",
   "execution_count": 8,
   "id": "83d9c9e1-5832-4577-bb23-7b6745e8b4e1",
   "metadata": {},
   "outputs": [
    {
     "name": "stdout",
     "output_type": "stream",
     "text": [
      "UUCCUGGCUGEndGEndCGACUACAGUEndGGGGCACCEndCAUUCAGGCCCUCAUCCUCCUCCUUCCCAGCAGGGUGUCACGCUUCUCCGAAGACUGGStartACUGCCStartGAGGAGUCACAGUCGGAUAUCAGCCUCGAGCUCCCUCEndGCCAGGAGACAUUUUCAGGCUUStartGAAACUACUUCCUCCAGAAGAUAUCCUGCCAUC\n"
     ]
    }
   ],
   "source": [
    "ARNm_show0 = seq_ARNm.replace(\"AUG\", \"Start\") # inicio de la traduccion\n",
    "ARNm_show1 = ARNm_show0.replace(\"UAA\", \"End\") # Fin de la tradiccion\n",
    "ARNm_show2 = ARNm_show1.replace(\"UAG\", \"End\") # Fin de la tradiccion\n",
    "ARNm_show = ARNm_show2.replace(\"UGA\", \"End\") # Fin de la tradiccion\n",
    "print(ARNm_show)"
   ]
  },
  {
   "cell_type": "markdown",
   "id": "9ae28c00-5afe-488e-8c05-05358f79f363",
   "metadata": {},
   "source": [
    "### Cadena de ARNm del complementario del ADN (cseq2)"
   ]
  },
  {
   "cell_type": "code",
   "execution_count": 18,
   "id": "4ba836f2-192c-4e0b-9caa-cc8f5dbf4c8d",
   "metadata": {},
   "outputs": [
    {
     "name": "stdout",
     "output_type": "stream",
     "text": [
      "AAGGACCGACAUCCAUCGCUGAUGUCAAUCCCCCGUGGAUCGUAAGUCCGGGAGUAGGAGGAGGAAGGGUCGUCCCACAGUGCGAAGAGGCUUCUGACCUACUGACGGUACCUCCUCAGUGUCAGCCUAUAGUCGGAGCUCGAGGGAGACUCGGUCCUCUGUAAAAGUCCGAAUACCUUUGAUGAAGGAGGUCUUCUAUAGGACGGUAG\n"
     ]
    }
   ],
   "source": [
    "cseq2 = \"TTCCTGGCTGTAGGTAGCGACTACAGTTAGGGGGCACCTAGCATTCAGGCCCTCATCCTCCTCCTTCCCAGCAGGGTGTCACGCTTCTCCGAAGACTGGATGACTGCCATGGAGGAGTCACAGTCGGATATCAGCCTCGAGCTCCCTCTGAGCCAGGAGACATTTTCAGGCTTATGGAAACTACTTCCTCCAGAAGATATCCTGCCATC\"\n",
    "cseq_1_ARN = cseq2.replace(\"A\", \"u\") #se remplaza las A por las u por que es una cadena de ARN\n",
    "cseq_2_ARN = cseq_1_ARN.replace(\"T\", \"a\") #se remplaza las T por las a\n",
    "cseq_3_ARN = cseq_2_ARN.replace(\"C\", \"g\") #se remplaza las C por las g\n",
    "cseq_4_ARN = cseq_3_ARN.replace(\"G\", \"c\") #se remplaza las G por las c\n",
    "cseq_5_ARN = cseq_4_ARN.replace(\"N\", \"\")\n",
    "cseq_ARNm = cseq_5_ARN.upper() #para poner mayusculas todo\n",
    "print(cseq_ARNm)"
   ]
  },
  {
   "cell_type": "code",
   "execution_count": 19,
   "id": "921bb1ce-bf30-43b0-b0b4-1baf7da898a2",
   "metadata": {},
   "outputs": [
    {
     "name": "stdout",
     "output_type": "stream",
     "text": [
      "AAGGACCGACAUCCAUCGCUGStartUCAAUCCCCCGUGGAUCGEndGUCCGGGAGEndGAGGAGGAAGGGUCGUCCCACAGUGCGAAGAGGCUUCEndCCUACEndCGGUACCUCCUCAGUGUCAGCCUAEndUCGGAGCUCGAGGGAGACUCGGUCCUCUGEndAAGUCCGAAUACCUUUGStartAAGGAGGUCUUCUAEndGACGGEnd\n"
     ]
    }
   ],
   "source": [
    "cseq_ARNm0 = cseq_ARNm.replace(\"AUG\", \"Start\") # inicio de la tradiccion\n",
    "cseq_ARNm1 = cseq_ARNm0.replace(\"UAA\", \"End\") # Fin de la tradiccion\n",
    "cseq_ARNm2 = cseq_ARNm1.replace(\"UAG\", \"End\") # Fin de la tradiccion\n",
    "cseq_ARNm_show = cseq_ARNm2.replace(\"UGA\", \"End\") # Fin de la tradiccion\n",
    "print(cseq_ARNm_show)"
   ]
  },
  {
   "cell_type": "markdown",
   "id": "2332ff87-f487-4945-be90-b7ec33b0eecb",
   "metadata": {},
   "source": [
    "### Cadena de ARNm del Reverso complementario (rseq2)"
   ]
  },
  {
   "cell_type": "code",
   "execution_count": 13,
   "id": "70d6cb41-be2d-49d9-9119-eee7923fa37f",
   "metadata": {},
   "outputs": [
    {
     "name": "stdout",
     "output_type": "stream",
     "text": [
      "GAUGGCAGGAUAUCUUCUGGAGGAAGUAGUUUCCAUAAGCCUGAAAAUGUCUCCUGGCUCAGAGGGAGCUCGAGGCUGAUAUCCGACUGUGACUCCUCCAUGGCAGUCAUCCAGUCUUCGGAGAAGCGUGACACCCUGCUGGGAAGGAGGAGGAUGAGGGCCUGAAUGCUAGGUGCCCCCUAACUGUAGUCGCUACCUACAGCCAGGAA\n"
     ]
    }
   ],
   "source": [
    "rseq2 = \"CTACCGTCCTATAGAAGACCTCCTTCATCAAAGGTATTCGGACTTTTACAGAGGACCGAGTCTCCCTCGAGCTCCGACTATAGGCTGACACTGAGGAGGTACCGTCAGTAGGTCAGAAGCCTCTTCGCACTGTGGGACGACCCTTCCTCCTCCTACTCCCGGACTTACGATCCACGGGGGATTGACATCAGCGATGGATGTCGGTCCTT\"\n",
    "rseq_1_ARN = rseq2.replace(\"A\", \"u\") #se remplaza las A por las u por que es una cadena de ARN\n",
    "rseq_2_ARN = rseq_1_ARN.replace(\"T\", \"a\") #se remplaza las T por las a\n",
    "rseq_3_ARN = rseq_2_ARN.replace(\"C\", \"g\") #se remplaza las C por las g\n",
    "rseq_4_ARN = rseq_3_ARN.replace(\"G\", \"c\") #se remplaza las G por las c\n",
    "rseq_5_ARN = rseq_4_ARN.replace(\"N\", \"\")\n",
    "rseq_ARNm = rseq_5_ARN.upper() #para poner mayusculas todo\n",
    "print(rseq_ARNm)"
   ]
  },
  {
   "cell_type": "code",
   "execution_count": 14,
   "id": "0810839a-8269-431a-afeb-91f3eed4b43c",
   "metadata": {},
   "outputs": [
    {
     "name": "stdout",
     "output_type": "stream",
     "text": [
      "GStartGCAGGAUAUCUUCUGGAGGAAGEndUUUCCAEndGCCEndAAStartUCUCCUGGCUCAGAGGGAGCUCGAGGCEndUAUCCGACUGEndCUCCUCCStartGCAGUCAUCCAGUCUUCGGAGAAGCGEndCACCCUGCUGGGAAGGAGGAGGStartAGGGCCEndStartCEndGUGCCCCCEndCUGEndUCGCUACCUACAGCCAGGAA\n"
     ]
    }
   ],
   "source": [
    "rseq_ARNm0 = rseq_ARNm.replace(\"AUG\", \"Start\") # inicio de la tradiccion\n",
    "rseq_ARNm1 = rseq_ARNm0.replace(\"UAA\", \"End\") # Fin de la tradiccion\n",
    "rseq_ARNm2 = rseq_ARNm1.replace(\"UAG\", \"End\") # Fin de la tradiccion\n",
    "rseq_ARNm_show = rseq_ARNm2.replace(\"UGA\", \"End\") # Fin de la tradiccion\n",
    "print(rseq_ARNm_show)"
   ]
  },
  {
   "cell_type": "markdown",
   "id": "e91fa08f-de69-459d-ab8e-21fd8ee73f44",
   "metadata": {},
   "source": [
    "# Resultados ARNm"
   ]
  },
  {
   "cell_type": "markdown",
   "id": "7cd46eca-2d7f-4ad9-b5b4-7832b5af98a2",
   "metadata": {},
   "source": [
    "- Se observa ademas de la cadena ARNm de la secuencia del deber, las zonas de inicio y final"
   ]
  },
  {
   "cell_type": "code",
   "execution_count": 21,
   "id": "68b57531-30f5-46df-b60c-bfcfc2928630",
   "metadata": {},
   "outputs": [
    {
     "name": "stdout",
     "output_type": "stream",
     "text": [
      "UUCCUGGCUGEndGEndCGACUACAGUEndGGGGCACCEndCAUUCAGGCCCUCAUCCUCCUCCUUCCCAGCAGGGUGUCACGCUUCUCCGAAGACUGGStartACUGCCStartGAGGAGUCACAGUCGGAUAUCAGCCUCGAGCUCCCUCEndGCCAGGAGACAUUUUCAGGCUUStartGAAACUACUUCCUCCAGAAGAUAUCCUGCCAUC\n"
     ]
    }
   ],
   "source": [
    "print(ARNm_show)"
   ]
  },
  {
   "cell_type": "markdown",
   "id": "9a15f946-e311-4427-98a9-63f1373bbbf5",
   "metadata": {},
   "source": [
    "- Se observa ademas de la cadena ARNm de la secuencia complementaria, las zonas de inicio y final"
   ]
  },
  {
   "cell_type": "code",
   "execution_count": 20,
   "id": "87a30290-9c14-4d94-9a87-9030b1e75d41",
   "metadata": {},
   "outputs": [
    {
     "name": "stdout",
     "output_type": "stream",
     "text": [
      "AAGGACCGACAUCCAUCGCUGStartUCAAUCCCCCGUGGAUCGEndGUCCGGGAGEndGAGGAGGAAGGGUCGUCCCACAGUGCGAAGAGGCUUCEndCCUACEndCGGUACCUCCUCAGUGUCAGCCUAEndUCGGAGCUCGAGGGAGACUCGGUCCUCUGEndAAGUCCGAAUACCUUUGStartAAGGAGGUCUUCUAEndGACGGEnd\n"
     ]
    }
   ],
   "source": [
    "print(cseq_ARNm_show)"
   ]
  },
  {
   "cell_type": "markdown",
   "id": "b4a61b4a-f2d6-404f-8363-fa891d625497",
   "metadata": {},
   "source": [
    "- Se observa ademas de la cadena ARNm de la secuencia Reverso complementaria, las zonas de inicio y final"
   ]
  },
  {
   "cell_type": "code",
   "execution_count": 22,
   "id": "f7d24022-aa49-471d-b3a4-c88fa11f4ecd",
   "metadata": {},
   "outputs": [
    {
     "name": "stdout",
     "output_type": "stream",
     "text": [
      "GStartGCAGGAUAUCUUCUGGAGGAAGEndUUUCCAEndGCCEndAAStartUCUCCUGGCUCAGAGGGAGCUCGAGGCEndUAUCCGACUGEndCUCCUCCStartGCAGUCAUCCAGUCUUCGGAGAAGCGEndCACCCUGCUGGGAAGGAGGAGGStartAGGGCCEndStartCEndGUGCCCCCEndCUGEndUCGCUACCUACAGCCAGGAA\n"
     ]
    }
   ],
   "source": [
    "print(rseq_ARNm_show)"
   ]
  },
  {
   "cell_type": "markdown",
   "id": "61fb954d-9683-4b1a-84e7-c918c6fc60ec",
   "metadata": {},
   "source": [
    "# Referencias\n",
    "- Patiño, P. J., & Pineda, J. R. R. (2006). El dogma central de la Biología molecular. Fondo Editorial Biogénesis, 107-118.\n",
    "- González Garzón, J. E. (2014). Enseñanza del dogma central de la biología molecular mediante el uso de laboratorios a estudiantes de educación media. Maestría en Enseñanza de las Ciencias Exactas y Naturales."
   ]
  }
 ],
 "metadata": {
  "kernelspec": {
   "display_name": "Python 3 (ipykernel)",
   "language": "python",
   "name": "python3"
  },
  "language_info": {
   "codemirror_mode": {
    "name": "ipython",
    "version": 3
   },
   "file_extension": ".py",
   "mimetype": "text/x-python",
   "name": "python",
   "nbconvert_exporter": "python",
   "pygments_lexer": "ipython3",
   "version": "3.9.12"
  }
 },
 "nbformat": 4,
 "nbformat_minor": 5
}
